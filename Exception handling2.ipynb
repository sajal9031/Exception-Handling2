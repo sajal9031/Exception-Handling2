{
 "cells": [
  {
   "cell_type": "markdown",
   "id": "6a7fb8a5-06df-4707-969d-ab3209f2de7e",
   "metadata": {},
   "source": [
    "1.) Explain why we have to use the Exception class while creating a Custom Exception."
   ]
  },
  {
   "cell_type": "markdown",
   "id": "76030405-9a80-4897-821b-06e4c6bdf474",
   "metadata": {},
   "source": [
    "In Python, you can create custom exceptions by defining a new class that inherits from the built-in Exception class or one of its subclasses. When you define a custom exception class, you are essentially creating a new type of exception that can be raised and caught like any other exception in Python.\n",
    "\n",
    "The reason why we inherit from the Exception class is that it provides a common set of methods and attributes that all exceptions in Python should have. For example, the Exception class defines the __str__() method, which is used to convert an exception instance to a string representation, and the args attribute, which contains a tuple of arguments that were passed to the exception when it was raised.\n",
    "\n",
    "By inheriting from the Exception class, our custom exception class automatically inherits these methods and attributes, making it easier to create and work with custom exceptions."
   ]
  },
  {
   "cell_type": "code",
   "execution_count": 2,
   "id": "097a16f7-91d5-483a-8ca1-f0e1bd0c9edb",
   "metadata": {},
   "outputs": [
    {
     "name": "stdout",
     "output_type": "stream",
     "text": [
      "This is a custom exception\n"
     ]
    }
   ],
   "source": [
    "class MyCustomException(Exception):\n",
    "    pass\n",
    "\n",
    "try:\n",
    "    raise MyCustomException(\"This is a custom exception\")\n",
    "except MyCustomException as e:\n",
    "    print(e)"
   ]
  },
  {
   "cell_type": "markdown",
   "id": "b4930bd3-868d-4455-8b0a-89f7cd05b74e",
   "metadata": {},
   "source": [
    "In this example, we define a custom exception class called MyCustomException that inherits from the Exception class. We then raise an instance of this exception with a custom message, and catch it using the except block.\n",
    "\n",
    "By inheriting from the Exception class, our MyCustomException class has access to all the methods and attributes defined by the Exception class, which makes it easier to work with and handle our custom exception in our code.\n"
   ]
  },
  {
   "cell_type": "code",
   "execution_count": null,
   "id": "48e1461f-c822-4493-8038-c63926843366",
   "metadata": {},
   "outputs": [],
   "source": []
  },
  {
   "cell_type": "markdown",
   "id": "a3c2eac4-6838-4634-bca8-3121b4913bc9",
   "metadata": {},
   "source": [
    "2.) Write a python program to print Python Exception Hierarchy."
   ]
  },
  {
   "cell_type": "code",
   "execution_count": 1,
   "id": "b7ce36e5-5bef-4662-936e-6cc7027bd130",
   "metadata": {},
   "outputs": [
    {
     "name": "stdout",
     "output_type": "stream",
     "text": [
      "object\n",
      "BaseException\n"
     ]
    }
   ],
   "source": [
    "import sys\n",
    "\n",
    "def print_exception_hierarchy():\n",
    "    exc_list = []\n",
    "    exc = BaseException\n",
    "    while exc:\n",
    "        exc_list.append(exc)\n",
    "        exc = exc.__base__\n",
    "    for exc in reversed(exc_list):\n",
    "        print(exc.__name__)\n",
    "\n",
    "print_exception_hierarchy()"
   ]
  },
  {
   "cell_type": "code",
   "execution_count": null,
   "id": "53be15f2-621d-4c07-93e7-47414e70bc0a",
   "metadata": {},
   "outputs": [],
   "source": []
  },
  {
   "cell_type": "code",
   "execution_count": null,
   "id": "a7cfaec8-879e-4b0f-a7c1-85d1ed616a4a",
   "metadata": {},
   "outputs": [],
   "source": []
  },
  {
   "cell_type": "markdown",
   "id": "45ceff3f-6726-4306-99da-bc378ea77b60",
   "metadata": {},
   "source": [
    "3.) What errors are defined in the ArithmeticError class? Explain any two with an example."
   ]
  },
  {
   "cell_type": "markdown",
   "id": "42a886d0-ffc1-4603-9ab8-38766841d6e0",
   "metadata": {},
   "source": [
    "The ArithmeticError class is a base class for all errors that occur during arithmetic operations in Python. Some of the errors that are defined in the ArithmeticError class include:\n"
   ]
  },
  {
   "cell_type": "markdown",
   "id": "92bbe265-9332-4869-8a24-cf99deb2bdf3",
   "metadata": {},
   "source": [
    "ZeroDivisionError: This error occurs when you try to divide a number by zero. "
   ]
  },
  {
   "cell_type": "code",
   "execution_count": 13,
   "id": "01879067-dc74-4f46-8c30-61201363c2e3",
   "metadata": {},
   "outputs": [
    {
     "ename": "ZeroDivisionError",
     "evalue": "division by zero",
     "output_type": "error",
     "traceback": [
      "\u001b[0;31m---------------------------------------------------------------------------\u001b[0m",
      "\u001b[0;31mZeroDivisionError\u001b[0m                         Traceback (most recent call last)",
      "Cell \u001b[0;32mIn[13], line 1\u001b[0m\n\u001b[0;32m----> 1\u001b[0m \u001b[38;5;241;43m5\u001b[39;49m\u001b[38;5;241;43m/\u001b[39;49m\u001b[38;5;241;43m0\u001b[39;49m\n",
      "\u001b[0;31mZeroDivisionError\u001b[0m: division by zero"
     ]
    }
   ],
   "source": [
    "5/0"
   ]
  },
  {
   "cell_type": "markdown",
   "id": "996eeb21-303a-4ca2-bae6-83486774d7ef",
   "metadata": {},
   "source": [
    "OverflowError: This error occurs when a calculation produces a number that is too large to be represented by the computer's memory. For example:"
   ]
  },
  {
   "cell_type": "code",
   "execution_count": 11,
   "id": "45f9bd79-b80d-4ecd-a258-7faab7901451",
   "metadata": {},
   "outputs": [
    {
     "ename": "OverflowError",
     "evalue": "math range error",
     "output_type": "error",
     "traceback": [
      "\u001b[0;31m---------------------------------------------------------------------------\u001b[0m",
      "\u001b[0;31mOverflowError\u001b[0m                             Traceback (most recent call last)",
      "Cell \u001b[0;32mIn[11], line 2\u001b[0m\n\u001b[1;32m      1\u001b[0m \u001b[38;5;28;01mimport\u001b[39;00m \u001b[38;5;21;01mmath\u001b[39;00m\n\u001b[0;32m----> 2\u001b[0m \u001b[43mmath\u001b[49m\u001b[38;5;241;43m.\u001b[39;49m\u001b[43mexp\u001b[49m\u001b[43m(\u001b[49m\u001b[38;5;241;43m1000\u001b[39;49m\u001b[43m)\u001b[49m\n",
      "\u001b[0;31mOverflowError\u001b[0m: math range error"
     ]
    }
   ],
   "source": [
    "import math\n",
    "math.exp(1000)"
   ]
  },
  {
   "cell_type": "markdown",
   "id": "0d50d57c-9cca-4932-83a8-3cb91e9957ac",
   "metadata": {},
   "source": [
    "ValueError: This error occurs when an arithmetic operation is performed with an inappropriate or invalid input value. "
   ]
  },
  {
   "cell_type": "code",
   "execution_count": 12,
   "id": "4e6554fa-60a0-4bd5-85c8-e105820e9620",
   "metadata": {},
   "outputs": [
    {
     "ename": "ValueError",
     "evalue": "invalid literal for int() with base 10: 'hello'",
     "output_type": "error",
     "traceback": [
      "\u001b[0;31m---------------------------------------------------------------------------\u001b[0m",
      "\u001b[0;31mValueError\u001b[0m                                Traceback (most recent call last)",
      "Cell \u001b[0;32mIn[12], line 1\u001b[0m\n\u001b[0;32m----> 1\u001b[0m \u001b[38;5;28;43mint\u001b[39;49m\u001b[43m(\u001b[49m\u001b[38;5;124;43m'\u001b[39;49m\u001b[38;5;124;43mhello\u001b[39;49m\u001b[38;5;124;43m'\u001b[39;49m\u001b[43m)\u001b[49m\n",
      "\u001b[0;31mValueError\u001b[0m: invalid literal for int() with base 10: 'hello'"
     ]
    }
   ],
   "source": [
    "int('hello')"
   ]
  },
  {
   "cell_type": "markdown",
   "id": "71a30a3b-4086-41b5-8b31-47970bbd7a92",
   "metadata": {},
   "source": [
    "FloatingPointError: This error occurs when a calculation produces a result that cannot be represented accurately using floating-point arithmetic."
   ]
  },
  {
   "cell_type": "code",
   "execution_count": 14,
   "id": "fcbe4866-ec5e-4359-a9f6-f09ae37c52c7",
   "metadata": {},
   "outputs": [
    {
     "data": {
      "text/plain": [
       "0.30000000000000004"
      ]
     },
     "execution_count": 14,
     "metadata": {},
     "output_type": "execute_result"
    }
   ],
   "source": [
    "0.1+0.2"
   ]
  },
  {
   "cell_type": "markdown",
   "id": "f2017204-7091-44a3-a0bc-069f6864f8b1",
   "metadata": {},
   "source": [
    "In the above example, the result of the addition operation is slightly different from the expected value of 0.3 due to the limitations of floating-point arithmetic."
   ]
  },
  {
   "cell_type": "code",
   "execution_count": null,
   "id": "e957d120-e967-4664-99ed-9935416198f7",
   "metadata": {},
   "outputs": [],
   "source": []
  },
  {
   "cell_type": "code",
   "execution_count": null,
   "id": "b2013906-6e2a-4809-965e-f31a8b992214",
   "metadata": {},
   "outputs": [],
   "source": []
  },
  {
   "cell_type": "markdown",
   "id": "3a0a7bac-646f-4dd8-9b29-2c45c43cce89",
   "metadata": {},
   "source": [
    "4.) Why LookupError class is used? Explain with an example KeyError and IndexError."
   ]
  },
  {
   "cell_type": "markdown",
   "id": "9396265b-f685-4463-a1e3-66516584839b",
   "metadata": {},
   "source": [
    "The LookupError class is used to indicate that a lookup operation has failed. This class is a base class for several other exception classes in Python, including KeyError and IndexError.\n",
    "\n",
    "KeyError: This error occurs when you try to access a dictionary key that does not exist. \n",
    "\n",
    "\n",
    "In this example, we are trying to access the key 'd' in the my_dict dictionary, which does not exist. This raises a KeyError."
   ]
  },
  {
   "cell_type": "code",
   "execution_count": null,
   "id": "cc28a6bd-954a-4b47-ae7c-da3aaa24a757",
   "metadata": {},
   "outputs": [
    {
     "ename": "KeyError",
     "evalue": "'d'",
     "output_type": "error",
     "traceback": [
      "\u001b[0;31m---------------------------------------------------------------------------\u001b[0m",
      "\u001b[0;31mKeyError\u001b[0m                                  Traceback (most recent call last)",
      "Cell \u001b[0;32mIn[8], line 2\u001b[0m\n\u001b[1;32m      1\u001b[0m my_dict \u001b[38;5;241m=\u001b[39m {\u001b[38;5;124m'\u001b[39m\u001b[38;5;124ma\u001b[39m\u001b[38;5;124m'\u001b[39m: \u001b[38;5;241m1\u001b[39m, \u001b[38;5;124m'\u001b[39m\u001b[38;5;124mb\u001b[39m\u001b[38;5;124m'\u001b[39m: \u001b[38;5;241m2\u001b[39m, \u001b[38;5;124m'\u001b[39m\u001b[38;5;124mc\u001b[39m\u001b[38;5;124m'\u001b[39m: \u001b[38;5;241m3\u001b[39m}\n\u001b[0;32m----> 2\u001b[0m \u001b[43mmy_dict\u001b[49m\u001b[43m[\u001b[49m\u001b[38;5;124;43m'\u001b[39;49m\u001b[38;5;124;43md\u001b[39;49m\u001b[38;5;124;43m'\u001b[39;49m\u001b[43m]\u001b[49m\n",
      "\u001b[0;31mKeyError\u001b[0m: 'd'"
     ]
    }
   ],
   "source": [
    " my_dict = {'a': 1, 'b': 2, 'c': 3}\n",
    "my_dict['d']\n"
   ]
  },
  {
   "cell_type": "code",
   "execution_count": null,
   "id": "0a4b34c8-bc1e-48db-b57c-bff2f0f21829",
   "metadata": {},
   "outputs": [],
   "source": []
  },
  {
   "cell_type": "markdown",
   "id": "177cee04-0176-47ac-9cb7-90ec0920a297",
   "metadata": {},
   "source": [
    "IndexError: This error occurs when you try to access a list or tuple index that is out of range."
   ]
  },
  {
   "cell_type": "code",
   "execution_count": 10,
   "id": "161ac376-634e-4834-b129-d828db802826",
   "metadata": {},
   "outputs": [
    {
     "ename": "IndexError",
     "evalue": "list index out of range",
     "output_type": "error",
     "traceback": [
      "\u001b[0;31m---------------------------------------------------------------------------\u001b[0m",
      "\u001b[0;31mIndexError\u001b[0m                                Traceback (most recent call last)",
      "Cell \u001b[0;32mIn[10], line 2\u001b[0m\n\u001b[1;32m      1\u001b[0m my_list \u001b[38;5;241m=\u001b[39m [\u001b[38;5;241m1\u001b[39m, \u001b[38;5;241m2\u001b[39m, \u001b[38;5;241m3\u001b[39m]\n\u001b[0;32m----> 2\u001b[0m \u001b[43mmy_list\u001b[49m\u001b[43m[\u001b[49m\u001b[38;5;241;43m3\u001b[39;49m\u001b[43m]\u001b[49m\n",
      "\u001b[0;31mIndexError\u001b[0m: list index out of range"
     ]
    }
   ],
   "source": [
    "my_list = [1, 2, 3]\n",
    "my_list[3]"
   ]
  },
  {
   "cell_type": "markdown",
   "id": "7137d000-8c6b-485b-96b6-53bcfbcf7c29",
   "metadata": {},
   "source": [
    "\n"
   ]
  },
  {
   "cell_type": "code",
   "execution_count": null,
   "id": "8d769070-0787-4724-ac5d-906d4a78565e",
   "metadata": {},
   "outputs": [],
   "source": []
  },
  {
   "cell_type": "code",
   "execution_count": null,
   "id": "2ed8fded-a4b9-42ce-86ee-7ddc6fe6a093",
   "metadata": {},
   "outputs": [],
   "source": []
  },
  {
   "cell_type": "markdown",
   "id": "a016845e-13c5-418d-bb19-e0a9547637f7",
   "metadata": {},
   "source": [
    "5.) Explain ImportError. What is ModuleNotFoundError?"
   ]
  },
  {
   "cell_type": "markdown",
   "id": "b16080b9-540e-4bb5-8581-7757fcb60d3f",
   "metadata": {},
   "source": [
    "ImportError is a built-in Python exception that is raised when a module or package cannot be imported. This can occur for a variety of reasons, such as a missing module, a circular import, or an import that fails due to an error in the imported code."
   ]
  },
  {
   "cell_type": "code",
   "execution_count": 15,
   "id": "42909051-ac34-4a8e-8f51-e78ccb2790e8",
   "metadata": {},
   "outputs": [
    {
     "name": "stdout",
     "output_type": "stream",
     "text": [
      "Error: Unable to import my_module\n"
     ]
    }
   ],
   "source": [
    "try:\n",
    "    import my_module\n",
    "except ImportError:\n",
    "    print(\"Error: Unable to import my_module\")"
   ]
  },
  {
   "cell_type": "markdown",
   "id": "d11f773a-31e9-4098-8ed7-1a94f3f69e93",
   "metadata": {},
   "source": [
    "In this example, we are attempting to import the my_module module, but if the import fails, an ImportError will be raised and the error message \"Error: Unable to import my_module\" will be printed."
   ]
  },
  {
   "cell_type": "code",
   "execution_count": null,
   "id": "25509ad9-7f7c-4234-a3ed-3b91a36b9abf",
   "metadata": {},
   "outputs": [],
   "source": []
  },
  {
   "cell_type": "code",
   "execution_count": 16,
   "id": "73ee4ec6-9165-4820-8a9d-2e76edc0edb0",
   "metadata": {},
   "outputs": [
    {
     "name": "stdout",
     "output_type": "stream",
     "text": [
      "Error: Unable to import my_missing_module\n"
     ]
    }
   ],
   "source": [
    "try:\n",
    "    import my_missing_module\n",
    "except ModuleNotFoundError:\n",
    "    print(\"Error: Unable to import my_missing_module\")"
   ]
  },
  {
   "cell_type": "markdown",
   "id": "881123ac-0326-4be8-938b-d5dc85242a86",
   "metadata": {},
   "source": [
    "In this example, we are attempting to import the my_missing_module module, but if the module is not found, a ModuleNotFoundError will be raised and the error message \"Error: Unable to import my_missing_module\" will be printed."
   ]
  },
  {
   "cell_type": "code",
   "execution_count": null,
   "id": "99996ed9-bbf6-4037-8b9f-de0313afed27",
   "metadata": {},
   "outputs": [],
   "source": []
  },
  {
   "cell_type": "code",
   "execution_count": null,
   "id": "19315ace-97bc-40eb-a809-473721634896",
   "metadata": {},
   "outputs": [],
   "source": []
  },
  {
   "cell_type": "markdown",
   "id": "08cefedf-933f-4ead-a59a-2d80a64002c2",
   "metadata": {},
   "source": [
    "6.) List down some best practices for exception handling in python."
   ]
  },
  {
   "cell_type": "markdown",
   "id": "672e3a4e-98ab-4ba0-9e68-675be3826b43",
   "metadata": {},
   "source": [
    "Here are some best practices for exception handling in Python:\n",
    "\n",
    "a.) Use specific exceptions: Use specific exceptions instead of catching general exceptions like Exception. This will make your code more readable and help you catch only the expected exceptions.\n",
    "\n",
    "b.) Keep the try block as small as possible: Only put the code that might raise an exception inside the try block. This will make it easier to find and fix errors.\n",
    "\n",
    "c.) Use multiple except blocks: Use multiple except blocks to catch different exceptions. This will help you handle each exception differently and provide a more specific error message to the user.\n",
    "\n",
    "d.) Use finally block: Use the finally block to release any resources that were acquired in the try block. This block will always run regardless of whether an exception was raised or not.\n",
    "\n",
    "e.) Don't use bare except blocks: Don't use bare except blocks as they can catch unexpected exceptions and make it difficult to debug issues.\n",
    "\n",
    "f.) Reraise exceptions: If you catch an exception, but can't handle it, re-raise the exception so that it can be handled by an outer try-except block or bubbled up to the top level of the application.\n",
    "\n",
    "7.) Use logging: Use logging to log exceptions and error messages. This will make it easier to debug issues and track down the root cause of errors.\n",
    "\n",
    "8.) Use context managers: Use context managers to automatically release resources like file handles, network connections, and locks. This will help you avoid resource leaks and make your code more reliable.\n",
    "\n",
    "9.) Be consistent: Be consistent in how you handle exceptions throughout your codebase. Use the same exception handling patterns and error messages to make it easier for others to understand and maintain your code."
   ]
  },
  {
   "cell_type": "code",
   "execution_count": null,
   "id": "59e8ed97-b91b-4cea-bae4-207d849114da",
   "metadata": {},
   "outputs": [],
   "source": []
  },
  {
   "cell_type": "code",
   "execution_count": null,
   "id": "dad49a94-8981-4ac6-b1a7-4fdd90c1fda7",
   "metadata": {},
   "outputs": [],
   "source": []
  }
 ],
 "metadata": {
  "kernelspec": {
   "display_name": "Python 3 (ipykernel)",
   "language": "python",
   "name": "python3"
  },
  "language_info": {
   "codemirror_mode": {
    "name": "ipython",
    "version": 3
   },
   "file_extension": ".py",
   "mimetype": "text/x-python",
   "name": "python",
   "nbconvert_exporter": "python",
   "pygments_lexer": "ipython3",
   "version": "3.10.8"
  }
 },
 "nbformat": 4,
 "nbformat_minor": 5
}
